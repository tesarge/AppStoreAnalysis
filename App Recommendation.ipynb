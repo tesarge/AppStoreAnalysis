{
 "cells": [
  {
   "cell_type": "markdown",
   "metadata": {},
   "source": [
    "# App Profile Recommendations"
   ]
  },
  {
   "cell_type": "markdown",
   "metadata": {},
   "source": [
    "The following will be used as a basis to make recommendations for developing applications to be listed on Google Play and the App Store. \n",
    "\n",
    "# Introduction\n",
    "\n",
    "As we begin the process, it is worth noting that our in-app revenue comes from advertisement. Therefore, our applications should be made to attract a high number of users. A high number of users means a higher chance that advertisements are engaged.\n",
    "\n",
    "That being said, our analysis will focus on free apps in the app stores that follow a similar revenue format. Our goal for this analysis is to help give our developers an idea for apps that garner a high user count."
   ]
  },
  {
   "cell_type": "markdown",
   "metadata": {},
   "source": [
    "## Data Sources\n",
    "\n",
    "The Google Play store has over 2.1 million apps while the Apple App Store carries over 2 million itself. The collection and analysis of this amount of data would prove to be costly and time consuming. Therefore, analysis will be performed and readily available data sets. Sets of data from Google Play and the App Store, on 10,000 and 7,000 apps respectively, will be used to serve as a slice of the pie for our analysis. Documentation for the data sets is provided below.\n",
    "\n",
    "Google Play Store: https://www.kaggle.com/lava18/google-play-store-apps\n",
    "\n",
    "Apple App Store: https://www.kaggle.com/ramamet4/app-store-apple-data-set-10k-apps"
   ]
  },
  {
   "cell_type": "code",
   "execution_count": 1,
   "metadata": {},
   "outputs": [],
   "source": [
    "def explore_data(dataset, start, end, rows_and_columns=False):\n",
    "    dataset_slice = dataset[start:end]    \n",
    "    for row in dataset_slice:\n",
    "        print(row)\n",
    "        print('\\n') # adds a new (empty) line after each row\n",
    "\n",
    "    if rows_and_columns:\n",
    "        print('Number of rows:', len(dataset))\n",
    "        print('Number of columns:', len(dataset[0]))"
   ]
  },
  {
   "cell_type": "code",
   "execution_count": 2,
   "metadata": {},
   "outputs": [],
   "source": [
    "file_1 = open('Data/AppleStore.csv', encoding=\"utf8\")\n",
    "from csv import reader\n",
    "read_1 = reader(file_1)\n",
    "apple = list(read_1)\n",
    "\n",
    "file_2 = open('Data/googleplaystore.csv', encoding=\"utf8\")\n",
    "from csv import reader\n",
    "read_2 = reader(file_2)\n",
    "android = list(read_2)"
   ]
  },
  {
   "cell_type": "markdown",
   "metadata": {},
   "source": [
    "After extracting the data we want to see using the code above, we can now browse some of the data that is available to us. Below is a sample from the App Store data."
   ]
  },
  {
   "cell_type": "code",
   "execution_count": 3,
   "metadata": {},
   "outputs": [
    {
     "name": "stdout",
     "output_type": "stream",
     "text": [
      "['284882215', 'Facebook', '389879808', 'USD', '0.0', '2974676', '212', '3.5', '3.5', '95.0', '4+', 'Social Networking', '37', '1', '29', '1']\n",
      "\n",
      "\n",
      "['389801252', 'Instagram', '113954816', 'USD', '0.0', '2161558', '1289', '4.5', '4.0', '10.23', '12+', 'Photo & Video', '37', '0', '29', '1']\n",
      "\n",
      "\n",
      "['529479190', 'Clash of Clans', '116476928', 'USD', '0.0', '2130805', '579', '4.5', '4.5', '9.24.12', '9+', 'Games', '38', '5', '18', '1']\n",
      "\n",
      "\n",
      "['420009108', 'Temple Run', '65921024', 'USD', '0.0', '1724546', '3842', '4.5', '4.0', '1.6.2', '9+', 'Games', '40', '5', '1', '1']\n",
      "\n",
      "\n"
     ]
    }
   ],
   "source": [
    "explore_data(apple, 1,5)"
   ]
  },
  {
   "cell_type": "markdown",
   "metadata": {},
   "source": [
    "And a sample from Google Play"
   ]
  },
  {
   "cell_type": "code",
   "execution_count": 4,
   "metadata": {},
   "outputs": [
    {
     "name": "stdout",
     "output_type": "stream",
     "text": [
      "['Photo Editor & Candy Camera & Grid & ScrapBook', 'ART_AND_DESIGN', '4.1', '159', '19M', '10,000+', 'Free', '0', 'Everyone', 'Art & Design', 'January 7, 2018', '1.0.0', '4.0.3 and up']\n",
      "\n",
      "\n",
      "['Coloring book moana', 'ART_AND_DESIGN', '3.9', '967', '14M', '500,000+', 'Free', '0', 'Everyone', 'Art & Design;Pretend Play', 'January 15, 2018', '2.0.0', '4.0.3 and up']\n",
      "\n",
      "\n",
      "['U Launcher Lite – FREE Live Cool Themes, Hide Apps', 'ART_AND_DESIGN', '4.7', '87510', '8.7M', '5,000,000+', 'Free', '0', 'Everyone', 'Art & Design', 'August 1, 2018', '1.2.4', '4.0.3 and up']\n",
      "\n",
      "\n",
      "['Sketch - Draw & Paint', 'ART_AND_DESIGN', '4.5', '215644', '25M', '50,000,000+', 'Free', '0', 'Teen', 'Art & Design', 'June 8, 2018', 'Varies with device', '4.2 and up']\n",
      "\n",
      "\n"
     ]
    }
   ],
   "source": [
    "explore_data(android,1,5)"
   ]
  },
  {
   "cell_type": "markdown",
   "metadata": {},
   "source": [
    "Great. So it looks like we have a bevy of information for each individual app at our disposal. The first order of business is to categorize this data that we have and this has already been given to us in the data sets within the column row. Below I have displayed the column headers from both lists."
   ]
  },
  {
   "cell_type": "code",
   "execution_count": 5,
   "metadata": {},
   "outputs": [
    {
     "name": "stdout",
     "output_type": "stream",
     "text": [
      "['id', 'track_name', 'size_bytes', 'currency', 'price', 'rating_count_tot', 'rating_count_ver', 'user_rating', 'user_rating_ver', 'ver', 'cont_rating', 'prime_genre', 'sup_devices.num', 'ipadSc_urls.num', 'lang.num', 'vpp_lic']\n"
     ]
    }
   ],
   "source": [
    "print(apple[0])"
   ]
  },
  {
   "cell_type": "code",
   "execution_count": 6,
   "metadata": {},
   "outputs": [
    {
     "name": "stdout",
     "output_type": "stream",
     "text": [
      "['App', 'Category', 'Rating', 'Reviews', 'Size', 'Installs', 'Type', 'Price', 'Content Rating', 'Genres', 'Last Updated', 'Current Ver', 'Android Ver']\n"
     ]
    }
   ],
   "source": [
    "print(android[0])"
   ]
  },
  {
   "cell_type": "markdown",
   "metadata": {},
   "source": [
    "\n"
   ]
  },
  {
   "cell_type": "markdown",
   "metadata": {},
   "source": [
    "## Cleaning the Data\n",
    "\n",
    "### Removing Duplicate Data\n",
    "One of the first steps we have is that some of this data will need to be removed from our lists. We will need to find if any rows have data that does not match the other rows data in each respective column. To do that, we can run this:"
   ]
  },
  {
   "cell_type": "code",
   "execution_count": 7,
   "metadata": {},
   "outputs": [
    {
     "name": "stdout",
     "output_type": "stream",
     "text": [
      "['Life Made WI-Fi Touchscreen Photo Frame', '1.9', '19', '3.0M', '1,000+', 'Free', '0', 'Everyone', '', 'February 11, 2018', '1.0.19', '4.0 and up']\n",
      "10473\n"
     ]
    }
   ],
   "source": [
    "for row in android:\n",
    "    header_length = len(android[0])\n",
    "    row_length = len(row)\n",
    "    if row_length != header_length:\n",
    "        print(row)\n",
    "        print(android.index(row))"
   ]
  },
  {
   "cell_type": "markdown",
   "metadata": {},
   "source": [
    "Here we can see that row 10473 has data inconsitencies and will need to be removed."
   ]
  },
  {
   "cell_type": "code",
   "execution_count": 8,
   "metadata": {},
   "outputs": [],
   "source": [
    "del android[10473]"
   ]
  },
  {
   "cell_type": "code",
   "execution_count": 9,
   "metadata": {},
   "outputs": [
    {
     "name": "stdout",
     "output_type": "stream",
     "text": [
      "['osmino Wi-Fi: free WiFi', 'TOOLS', '4.2', '134203', '4.1M', '10,000,000+', 'Free', '0', 'Everyone', 'Tools', 'August 7, 2018', '6.06.14', '4.4 and up']\n"
     ]
    }
   ],
   "source": [
    "print(android[10473])"
   ]
  },
  {
   "cell_type": "markdown",
   "metadata": {},
   "source": [
    "So just to double check that the row was deleted from our data, I printed the same row again to make sure that the row below had shifted up to replace our old one. Looks good."
   ]
  },
  {
   "cell_type": "markdown",
   "metadata": {},
   "source": [
    "Now that inconsistent data is cleared, we will need to look for duplicate data."
   ]
  },
  {
   "cell_type": "code",
   "execution_count": 10,
   "metadata": {},
   "outputs": [
    {
     "name": "stdout",
     "output_type": "stream",
     "text": [
      "Unique apps in android:  9659\n",
      "Duplicate apps in android:  1181\n"
     ]
    }
   ],
   "source": [
    "duplicate = []\n",
    "unique = []\n",
    "for app in android[1:]: #using [1:] to select data after the header\n",
    "    name = app[0]\n",
    "    if name in unique:\n",
    "        duplicate.append(name)\n",
    "    else:\n",
    "        unique.append(name)\n",
    "        \n",
    "print('Unique apps in android: ', len(unique))\n",
    "print('Duplicate apps in android: ', len(duplicate))"
   ]
  },
  {
   "cell_type": "markdown",
   "metadata": {},
   "source": [
    "We find that roughly 10% of the data in our list is duplicate data. We will want to remove this but we need to decide how to remove the data. To do that, we should look at some duplicates and see what kind of data we want in our final list. Lets find an app that has duplicates. A popular and well-known app like Instagram might be a good place to look."
   ]
  },
  {
   "cell_type": "code",
   "execution_count": 11,
   "metadata": {},
   "outputs": [
    {
     "name": "stdout",
     "output_type": "stream",
     "text": [
      "['Instagram', 'SOCIAL', '4.5', '66577313', 'Varies with device', '1,000,000,000+', 'Free', '0', 'Teen', 'Social', 'July 31, 2018', 'Varies with device', 'Varies with device']\n",
      "['Instagram', 'SOCIAL', '4.5', '66577446', 'Varies with device', '1,000,000,000+', 'Free', '0', 'Teen', 'Social', 'July 31, 2018', 'Varies with device', 'Varies with device']\n",
      "['Instagram', 'SOCIAL', '4.5', '66577313', 'Varies with device', '1,000,000,000+', 'Free', '0', 'Teen', 'Social', 'July 31, 2018', 'Varies with device', 'Varies with device']\n",
      "['Instagram', 'SOCIAL', '4.5', '66509917', 'Varies with device', '1,000,000,000+', 'Free', '0', 'Teen', 'Social', 'July 31, 2018', 'Varies with device', 'Varies with device']\n"
     ]
    }
   ],
   "source": [
    "for app in android:\n",
    "    name = app[0]\n",
    "    if name == 'Instagram':\n",
    "        print(app)"
   ]
  },
  {
   "cell_type": "markdown",
   "metadata": {},
   "source": [
    "The data differentiates at the 4th column. To save you time from scrolling back up, the 4th column is the 'Reviews' column. The differentiation is likely from data being taken at different times. We will want the most recent data and that will likely be the row with the most reviews.\n",
    "\n",
    "To do this I'll write a code that will make a new list that stores the apps each only once, cycles through each row in the original list and checks the number of reviews stored in the new list and updates to the highest value if necessary."
   ]
  },
  {
   "cell_type": "code",
   "execution_count": 12,
   "metadata": {},
   "outputs": [],
   "source": [
    "reviews_max = {}\n",
    "for app in android[1:]:\n",
    "    name = app[0]\n",
    "    n_reviews = float(app[3])\n",
    "    if name in reviews_max and reviews_max[name] < n_reviews:\n",
    "        reviews_max[name] = n_reviews\n",
    "    elif name not in reviews_max:\n",
    "        reviews_max[name] = n_reviews\n",
    "        "
   ]
  },
  {
   "cell_type": "markdown",
   "metadata": {},
   "source": [
    "To ensure that we have the same number of apps as the unique apps list from above:"
   ]
  },
  {
   "cell_type": "code",
   "execution_count": 13,
   "metadata": {},
   "outputs": [
    {
     "name": "stdout",
     "output_type": "stream",
     "text": [
      "9659\n"
     ]
    }
   ],
   "source": [
    "print(len(reviews_max))"
   ]
  },
  {
   "cell_type": "markdown",
   "metadata": {},
   "source": [
    "Right now this data is just stored in a dictionary that attributes an app name to the number of reviews. Now we need to make a list that contains all the app data using only the apps we just singled out above."
   ]
  },
  {
   "cell_type": "code",
   "execution_count": 14,
   "metadata": {},
   "outputs": [],
   "source": [
    "android_clean = []\n",
    "already_added = []\n",
    "for app in android[1:]:\n",
    "    name = app[0]\n",
    "    n_reviews = float(app[3])\n",
    "    if n_reviews == reviews_max[name] and name not in already_added:\n",
    "        android_clean.append(app)\n",
    "        already_added.append(name)\n",
    "        "
   ]
  },
  {
   "cell_type": "code",
   "execution_count": 15,
   "metadata": {},
   "outputs": [
    {
     "name": "stdout",
     "output_type": "stream",
     "text": [
      "['U Launcher Lite – FREE Live Cool Themes, Hide Apps', 'ART_AND_DESIGN', '4.7', '87510', '8.7M', '5,000,000+', 'Free', '0', 'Everyone', 'Art & Design', 'August 1, 2018', '1.2.4', '4.0.3 and up']\n",
      "\n",
      "\n",
      "['Sketch - Draw & Paint', 'ART_AND_DESIGN', '4.5', '215644', '25M', '50,000,000+', 'Free', '0', 'Teen', 'Art & Design', 'June 8, 2018', 'Varies with device', '4.2 and up']\n",
      "\n",
      "\n",
      "['Pixel Draw - Number Art Coloring Book', 'ART_AND_DESIGN', '4.3', '967', '2.8M', '100,000+', 'Free', '0', 'Everyone', 'Art & Design;Creativity', 'June 20, 2018', '1.1', '4.4 and up']\n",
      "\n",
      "\n"
     ]
    }
   ],
   "source": [
    "explore_data(android_clean, 1,4)"
   ]
  },
  {
   "cell_type": "code",
   "execution_count": 16,
   "metadata": {},
   "outputs": [
    {
     "name": "stdout",
     "output_type": "stream",
     "text": [
      "9659\n"
     ]
    }
   ],
   "source": [
    "print(len(android_clean))"
   ]
  },
  {
   "cell_type": "markdown",
   "metadata": {},
   "source": [
    "### Filtering Out Non English Apps\n",
    "Alright, so the data in the list is looking like how we want it and has been cleaned of duplicate entries. But we still need to clean up some more. Being a company that makes apps in English, it would be best if we also narrowed our focus to look at only the apps in English. We do this because apps that our popular in one country might not be as popular or even nonexistent in another country, like Facebook in China or Ali Pay in the US. Sorry, iQiyi, we'll have to take you out of our data.\n",
    "\n",
    "To do this we need to write some code that will look at the name of the app, determine if it is English or another language, and remove the non-English apps. We can use ASCII to recognize characters that are English or other languages based on their associated number. Characters we use in English fall between 0-127 in the ASCII. We can check each character in the app name to see if its ASCII number is 127 or less. We should also consider other characters such as emojis or trademark logos that sometimes appear in app names. We can give apps a threshold for the number of non-English characters they cinlude before we consider it a non_english app. Below I've set it to three."
   ]
  },
  {
   "cell_type": "code",
   "execution_count": 17,
   "metadata": {},
   "outputs": [],
   "source": [
    "def eng_check(string):\n",
    "    non_eng = 0\n",
    "    for char in string:\n",
    "        if ord(char) > 127:\n",
    "            non_eng += 1\n",
    "            \n",
    "    if non_eng > 3:\n",
    "        return False\n",
    "    else:\n",
    "        return True"
   ]
  },
  {
   "cell_type": "code",
   "execution_count": 18,
   "metadata": {},
   "outputs": [
    {
     "data": {
      "text/plain": [
       "False"
      ]
     },
     "execution_count": 18,
     "metadata": {},
     "output_type": "execute_result"
    }
   ],
   "source": [
    "eng_check('爱奇艺PPS -《欢乐颂2》电视剧热播')"
   ]
  },
  {
   "cell_type": "code",
   "execution_count": 19,
   "metadata": {},
   "outputs": [
    {
     "data": {
      "text/plain": [
       "True"
      ]
     },
     "execution_count": 19,
     "metadata": {},
     "output_type": "execute_result"
    }
   ],
   "source": [
    "eng_check('Instagram')"
   ]
  },
  {
   "cell_type": "code",
   "execution_count": 20,
   "metadata": {},
   "outputs": [
    {
     "data": {
      "text/plain": [
       "True"
      ]
     },
     "execution_count": 20,
     "metadata": {},
     "output_type": "execute_result"
    }
   ],
   "source": [
    "eng_check('Instachat 😜')"
   ]
  },
  {
   "cell_type": "markdown",
   "metadata": {},
   "source": [
    "Looks like this has worked and we can start making a list that includes only English apps. "
   ]
  },
  {
   "cell_type": "code",
   "execution_count": 21,
   "metadata": {},
   "outputs": [],
   "source": [
    "android_en_clean = []\n",
    "def lang_filter(data):\n",
    "    for app in data:\n",
    "        name = app[0]\n",
    "        if eng_check(name) :\n",
    "            android_en_clean.append(app)"
   ]
  },
  {
   "cell_type": "code",
   "execution_count": 22,
   "metadata": {},
   "outputs": [],
   "source": [
    "lang_filter(android_clean)"
   ]
  },
  {
   "cell_type": "code",
   "execution_count": 23,
   "metadata": {},
   "outputs": [
    {
     "data": {
      "text/plain": [
       "9614"
      ]
     },
     "execution_count": 23,
     "metadata": {},
     "output_type": "execute_result"
    }
   ],
   "source": [
    "len(android_en_clean)"
   ]
  },
  {
   "cell_type": "markdown",
   "metadata": {},
   "source": [
    "### Cleaning The Apple App Store Data\n",
    "\n",
    "Now I'll run the Apple App Store data through the same process, making minor changes to the code for relevancy."
   ]
  },
  {
   "cell_type": "code",
   "execution_count": 24,
   "metadata": {},
   "outputs": [],
   "source": [
    "for row in apple:\n",
    "    header_length = len(apple[0])\n",
    "    row_length = len(row)\n",
    "    if row_length != header_length:\n",
    "        print(row)\n",
    "        print(apple.index(row))"
   ]
  },
  {
   "cell_type": "code",
   "execution_count": 25,
   "metadata": {},
   "outputs": [
    {
     "name": "stdout",
     "output_type": "stream",
     "text": [
      "Unique apps in apple:  7195\n",
      "Duplicate apps in apple:  2\n"
     ]
    }
   ],
   "source": [
    "duplicate_apple = []\n",
    "unique_apple = []\n",
    "for app in apple[1:]: #using [1:] to select data after the header\n",
    "    name = app[1]\n",
    "    if name in unique_apple:\n",
    "        duplicate_apple.append(name)\n",
    "    else:\n",
    "        unique_apple.append(name)\n",
    "        \n",
    "print('Unique apps in apple: ', len(unique_apple))\n",
    "print('Duplicate apps in apple: ', len(duplicate_apple))"
   ]
  },
  {
   "cell_type": "code",
   "execution_count": 26,
   "metadata": {},
   "outputs": [],
   "source": [
    "reviews_max_apple = {}\n",
    "for app in apple[1:]:\n",
    "    name = app[1]\n",
    "    n_reviews_apple = float(app[5])\n",
    "    if name in reviews_max_apple and reviews_max_apple[name] < n_reviews_apple:\n",
    "        reviews_max_apple[name] = n_reviews_apple\n",
    "    elif name not in reviews_max_apple:\n",
    "        reviews_max_apple[name] = n_reviews_apple"
   ]
  },
  {
   "cell_type": "code",
   "execution_count": 27,
   "metadata": {},
   "outputs": [
    {
     "name": "stdout",
     "output_type": "stream",
     "text": [
      "7195\n"
     ]
    }
   ],
   "source": [
    "print(len(reviews_max_apple))"
   ]
  },
  {
   "cell_type": "code",
   "execution_count": 28,
   "metadata": {},
   "outputs": [],
   "source": [
    "apple_clean = []\n",
    "apple_already_added = []\n",
    "for app in apple[1:]:\n",
    "    name = app[1]\n",
    "    n_reviews = float(app[5])\n",
    "    if n_reviews == reviews_max_apple[name] and name not in apple_already_added:\n",
    "        apple_clean.append(app)\n",
    "        apple_already_added.append(name)"
   ]
  },
  {
   "cell_type": "code",
   "execution_count": 29,
   "metadata": {},
   "outputs": [
    {
     "name": "stdout",
     "output_type": "stream",
     "text": [
      "7195\n"
     ]
    }
   ],
   "source": [
    "print(len(apple_clean))"
   ]
  },
  {
   "cell_type": "code",
   "execution_count": 30,
   "metadata": {},
   "outputs": [],
   "source": [
    "apple_en_clean = []\n",
    "def lang_filter_apple(data):\n",
    "    for app in data:\n",
    "        name = app[1]\n",
    "        if eng_check(name) :\n",
    "            apple_en_clean.append(app)"
   ]
  },
  {
   "cell_type": "code",
   "execution_count": 31,
   "metadata": {},
   "outputs": [],
   "source": [
    "lang_filter_apple(apple_clean)"
   ]
  },
  {
   "cell_type": "code",
   "execution_count": 32,
   "metadata": {},
   "outputs": [
    {
     "name": "stdout",
     "output_type": "stream",
     "text": [
      "6181\n"
     ]
    }
   ],
   "source": [
    "print(len(apple_en_clean))"
   ]
  },
  {
   "cell_type": "markdown",
   "metadata": {},
   "source": [
    "The App Store raw data looks like it's a bit cleaner than the Google Play store data and we didn't have to do much. However, I went ahead and did it for the sake of consistency."
   ]
  },
  {
   "cell_type": "markdown",
   "metadata": {},
   "source": [
    "### Filtering Out Paid Apps\n",
    "\n",
    "Since we plan on app revenue coming solely from in-app advertisement, we should only look at data regarding similar apps. Therefore, we want to filter out data on paid apps, as the revenue schemes are different that what we plan to implement. \n",
    "\n",
    "The App Store data displays price in a numbers-only string, such as '3.99', making it easy to convert to a float. However, the Google Play Store data shows price using a dollar sign and that doesn't allow us to convert it to a float. The good news is that the data contains a column titled \"Type\" which says whether the app is free or paid. To filter out the paid apps, we only need to search this \"type\" column"
   ]
  },
  {
   "cell_type": "code",
   "execution_count": 33,
   "metadata": {},
   "outputs": [],
   "source": [
    "apple_free = []\n",
    "for app in apple_en_clean[1:]:\n",
    "    price = float(app[4])\n",
    "    if price == 0.0:\n",
    "        apple_free.append(app)"
   ]
  },
  {
   "cell_type": "code",
   "execution_count": 34,
   "metadata": {},
   "outputs": [
    {
     "name": "stdout",
     "output_type": "stream",
     "text": [
      "3219\n"
     ]
    }
   ],
   "source": [
    "print(len(apple_free))"
   ]
  },
  {
   "cell_type": "code",
   "execution_count": 35,
   "metadata": {},
   "outputs": [],
   "source": [
    "android_free = []\n",
    "for app in android_en_clean[1:]:\n",
    "    price = app[6]\n",
    "    if price == \"Free\":\n",
    "        android_free.append(app)"
   ]
  },
  {
   "cell_type": "code",
   "execution_count": 36,
   "metadata": {},
   "outputs": [
    {
     "name": "stdout",
     "output_type": "stream",
     "text": [
      "8862\n"
     ]
    }
   ],
   "source": [
    "print(len(android_free))"
   ]
  },
  {
   "cell_type": "markdown",
   "metadata": {},
   "source": [
    "# Analysis"
   ]
  },
  {
   "cell_type": "markdown",
   "metadata": {},
   "source": [
    "Since we are making an app with an in-app advertisement based revenue scheme, our app revenue will be highly influenced by the number of users. This is one of the reasons we needed to filter out the paid apps. Paid apps, while also benefitting from a high volume of users, can rely on user payments in a variety of ways such as upfront app cost, a monthly subscription fee, or in-app upgrades, to name a few. In this way, paid apps can make decent revenue with fewer users than a free app. Our goal of having a high user count means that we should plan on launching the app on both the Google Play store and The App Store.\n",
    "\n",
    "To ensure that our strategy can be profitable, we will roll out the app in three steps:\n",
    "\n",
    "1. First, we will build a basic Android version of the app and launch on the Google Play Store.\n",
    "\n",
    "2. If our initial response from users is positive, we will further develop the app based on user reviews.\n",
    "\n",
    "3. Pending a profitible first six months on Google Play, we will build an iOS version of the app to release on the Apple App Store.\n",
    "\n"
   ]
  },
  {
   "cell_type": "markdown",
   "metadata": {},
   "source": [
    "To find a starting point for our app development, we will analyze the apps in the data sets by genre. In the App Store this is under the 'prime_genre' column, and in the Google Play store under 'Genres' and 'Category'. TO do this we will make some functions to \n",
    "    1. Generate a frequency table that shows percentage, and\n",
    "    2. Display the percentages in descending order"
   ]
  },
  {
   "cell_type": "code",
   "execution_count": 37,
   "metadata": {},
   "outputs": [],
   "source": [
    "def freq_table(dataset, index):\n",
    "    table = {}\n",
    "    total = 0\n",
    "    \n",
    "    for row in dataset:\n",
    "        total += 1\n",
    "        value = row[index]\n",
    "        if value in table:\n",
    "            table[value] += 1\n",
    "        else:\n",
    "            table[value] = 1\n",
    "            \n",
    "    table_percent = {}\n",
    "    for key in table:\n",
    "        percentage = (table[key]/total) * 100\n",
    "        table_percent[key] = percentage\n",
    "        \n",
    "    return table_percent\n",
    "\n",
    "def display_table(dataset, index):\n",
    "    table = freq_table(dataset, index)\n",
    "    table_display = []\n",
    "    for key in table:\n",
    "        key_val_as_tuple = (table[key], key)\n",
    "        table_display.append(key_val_as_tuple)\n",
    "\n",
    "    table_sorted = sorted(table_display, reverse = True)\n",
    "    for entry in table_sorted:\n",
    "        print(entry[1], ':', entry[0])"
   ]
  },
  {
   "cell_type": "markdown",
   "metadata": {},
   "source": [
    "### Most Popular Google Play Apps by Genre"
   ]
  },
  {
   "cell_type": "code",
   "execution_count": 38,
   "metadata": {},
   "outputs": [
    {
     "name": "stdout",
     "output_type": "stream",
     "text": [
      "Tools : 8.451816745655607\n",
      "Entertainment : 6.070864364703228\n",
      "Education : 5.348679756262695\n",
      "Business : 4.5926427443015125\n",
      "Productivity : 3.8930264048747465\n",
      "Lifestyle : 3.8930264048747465\n",
      "Finance : 3.7011961182577298\n",
      "Medical : 3.5319341006544795\n",
      "Sports : 3.4642292936131795\n",
      "Personalization : 3.3175355450236967\n",
      "Communication : 3.238546603475513\n",
      "Action : 3.1031369893929135\n",
      "Health & Fitness : 3.080568720379147\n",
      "Photography : 2.945159106296547\n",
      "News & Magazines : 2.798465357707064\n",
      "Social : 2.663055743624464\n",
      "Travel & Local : 2.324531708417964\n",
      "Shopping : 2.2455427668697814\n",
      "Books & Reference : 2.143985556307831\n",
      "Simulation : 2.0424283457458814\n",
      "Dating : 1.8618821936357481\n",
      "Arcade : 1.8505980591288649\n",
      "Video Players & Editors : 1.7716091175806816\n",
      "Casual : 1.7603249830737984\n",
      "Maps & Navigation : 1.399232678853532\n",
      "Food & Drink : 1.2412547957571656\n",
      "Puzzle : 1.128413450688332\n",
      "Racing : 0.9930038366057323\n",
      "Role Playing : 0.9365831640713158\n",
      "Libraries & Demo : 0.9365831640713158\n",
      "Auto & Vehicles : 0.9252990295644324\n",
      "Strategy : 0.9027307605506657\n",
      "House & Home : 0.8237418190024826\n",
      "Weather : 0.8011735499887158\n",
      "Events : 0.7109004739336493\n",
      "Adventure : 0.6770480704129994\n",
      "Comics : 0.6093432633716994\n",
      "Beauty : 0.598059128864816\n",
      "Art & Design : 0.5867749943579328\n",
      "Parenting : 0.49650191830286616\n",
      "Card : 0.45136538027533285\n",
      "Casino : 0.4287971112615662\n",
      "Trivia : 0.41751297675468296\n",
      "Educational;Education : 0.3949447077409162\n",
      "Board : 0.3836605732340329\n",
      "Educational : 0.3723764387271496\n",
      "Education;Education : 0.3385240352064997\n",
      "Word : 0.2595350936583164\n",
      "Casual;Pretend Play : 0.23696682464454977\n",
      "Music : 0.2031144211238998\n",
      "Racing;Action & Adventure : 0.16926201760324985\n",
      "Puzzle;Brain Games : 0.16926201760324985\n",
      "Entertainment;Music & Video : 0.16926201760324985\n",
      "Casual;Brain Games : 0.13540961408259986\n",
      "Casual;Action & Adventure : 0.13540961408259986\n",
      "Arcade;Action & Adventure : 0.12412547957571654\n",
      "Action;Action & Adventure : 0.1015572105619499\n",
      "Educational;Pretend Play : 0.09027307605506657\n",
      "Simulation;Action & Adventure : 0.07898894154818326\n",
      "Parenting;Education : 0.07898894154818326\n",
      "Entertainment;Brain Games : 0.07898894154818326\n",
      "Board;Brain Games : 0.07898894154818326\n",
      "Parenting;Music & Video : 0.06770480704129993\n",
      "Educational;Brain Games : 0.06770480704129993\n",
      "Casual;Creativity : 0.06770480704129993\n",
      "Art & Design;Creativity : 0.06770480704129993\n",
      "Education;Pretend Play : 0.056420672534416606\n",
      "Role Playing;Pretend Play : 0.045136538027533285\n",
      "Education;Creativity : 0.045136538027533285\n",
      "Role Playing;Action & Adventure : 0.033852403520649964\n",
      "Puzzle;Action & Adventure : 0.033852403520649964\n",
      "Entertainment;Creativity : 0.033852403520649964\n",
      "Entertainment;Action & Adventure : 0.033852403520649964\n",
      "Educational;Creativity : 0.033852403520649964\n",
      "Educational;Action & Adventure : 0.033852403520649964\n",
      "Education;Music & Video : 0.033852403520649964\n",
      "Education;Brain Games : 0.033852403520649964\n",
      "Education;Action & Adventure : 0.033852403520649964\n",
      "Adventure;Action & Adventure : 0.033852403520649964\n",
      "Video Players & Editors;Music & Video : 0.022568269013766643\n",
      "Sports;Action & Adventure : 0.022568269013766643\n",
      "Simulation;Pretend Play : 0.022568269013766643\n",
      "Puzzle;Creativity : 0.022568269013766643\n",
      "Music;Music & Video : 0.022568269013766643\n",
      "Entertainment;Pretend Play : 0.022568269013766643\n",
      "Casual;Education : 0.022568269013766643\n",
      "Board;Action & Adventure : 0.022568269013766643\n",
      "Video Players & Editors;Creativity : 0.011284134506883321\n",
      "Trivia;Education : 0.011284134506883321\n",
      "Travel & Local;Action & Adventure : 0.011284134506883321\n",
      "Tools;Education : 0.011284134506883321\n",
      "Strategy;Education : 0.011284134506883321\n",
      "Strategy;Creativity : 0.011284134506883321\n",
      "Strategy;Action & Adventure : 0.011284134506883321\n",
      "Simulation;Education : 0.011284134506883321\n",
      "Role Playing;Brain Games : 0.011284134506883321\n",
      "Racing;Pretend Play : 0.011284134506883321\n",
      "Puzzle;Education : 0.011284134506883321\n",
      "Parenting;Brain Games : 0.011284134506883321\n",
      "Music & Audio;Music & Video : 0.011284134506883321\n",
      "Lifestyle;Pretend Play : 0.011284134506883321\n",
      "Lifestyle;Education : 0.011284134506883321\n",
      "Health & Fitness;Education : 0.011284134506883321\n",
      "Health & Fitness;Action & Adventure : 0.011284134506883321\n",
      "Entertainment;Education : 0.011284134506883321\n",
      "Communication;Creativity : 0.011284134506883321\n",
      "Comics;Creativity : 0.011284134506883321\n",
      "Casual;Music & Video : 0.011284134506883321\n",
      "Card;Action & Adventure : 0.011284134506883321\n",
      "Books & Reference;Education : 0.011284134506883321\n",
      "Art & Design;Pretend Play : 0.011284134506883321\n",
      "Art & Design;Action & Adventure : 0.011284134506883321\n",
      "Arcade;Pretend Play : 0.011284134506883321\n",
      "Adventure;Education : 0.011284134506883321\n"
     ]
    }
   ],
   "source": [
    "display_table(android_free, 9)"
   ]
  },
  {
   "cell_type": "code",
   "execution_count": 39,
   "metadata": {},
   "outputs": [
    {
     "name": "stdout",
     "output_type": "stream",
     "text": [
      "FAMILY : 18.900925299029563\n",
      "GAME : 9.726923944933423\n",
      "TOOLS : 8.463100880162491\n",
      "BUSINESS : 4.5926427443015125\n",
      "LIFESTYLE : 3.9043105393816293\n",
      "PRODUCTIVITY : 3.8930264048747465\n",
      "FINANCE : 3.7011961182577298\n",
      "MEDICAL : 3.5319341006544795\n",
      "SPORTS : 3.39652448657188\n",
      "PERSONALIZATION : 3.3175355450236967\n",
      "COMMUNICATION : 3.238546603475513\n",
      "HEALTH_AND_FITNESS : 3.080568720379147\n",
      "PHOTOGRAPHY : 2.945159106296547\n",
      "NEWS_AND_MAGAZINES : 2.798465357707064\n",
      "SOCIAL : 2.663055743624464\n",
      "TRAVEL_AND_LOCAL : 2.335815842924848\n",
      "SHOPPING : 2.2455427668697814\n",
      "BOOKS_AND_REFERENCE : 2.143985556307831\n",
      "DATING : 1.8618821936357481\n",
      "VIDEO_PLAYERS : 1.7941773865944481\n",
      "MAPS_AND_NAVIGATION : 1.399232678853532\n",
      "FOOD_AND_DRINK : 1.2412547957571656\n",
      "EDUCATION : 1.162265854208982\n",
      "ENTERTAINMENT : 0.9591514330850823\n",
      "LIBRARIES_AND_DEMO : 0.9365831640713158\n",
      "AUTO_AND_VEHICLES : 0.9252990295644324\n",
      "HOUSE_AND_HOME : 0.8237418190024826\n",
      "WEATHER : 0.8011735499887158\n",
      "EVENTS : 0.7109004739336493\n",
      "PARENTING : 0.6544798013992327\n",
      "ART_AND_DESIGN : 0.631911532385466\n",
      "COMICS : 0.6206273978785828\n",
      "BEAUTY : 0.598059128864816\n"
     ]
    }
   ],
   "source": [
    "display_table(android_free, 1)"
   ]
  },
  {
   "cell_type": "markdown",
   "metadata": {},
   "source": [
    "### Most Popular App Store Apps by Genre"
   ]
  },
  {
   "cell_type": "code",
   "execution_count": 40,
   "metadata": {},
   "outputs": [
    {
     "name": "stdout",
     "output_type": "stream",
     "text": [
      "Games : 58.1547064305685\n",
      "Entertainment : 7.890649269959615\n",
      "Photo & Video : 4.970487729108418\n",
      "Education : 3.6657347002174587\n",
      "Social Networking : 3.2618825722273996\n",
      "Shopping : 2.60950605778192\n",
      "Utilities : 2.516309412861137\n",
      "Sports : 2.1435228331780056\n",
      "Music : 2.050326188257223\n",
      "Health & Fitness : 2.019260639950295\n",
      "Productivity : 1.7396707051879468\n",
      "Lifestyle : 1.5843429636533086\n",
      "News : 1.3358185771978874\n",
      "Travel : 1.2426219322771046\n",
      "Finance : 1.1183597390493942\n",
      "Weather : 0.8698353525939734\n",
      "Food & Drink : 0.8077042559801181\n",
      "Reference : 0.5591798695246971\n",
      "Business : 0.5281143212177695\n",
      "Book : 0.4349176762969867\n",
      "Navigation : 0.1863932898415657\n",
      "Medical : 0.1863932898415657\n",
      "Catalogs : 0.12426219322771047\n"
     ]
    }
   ],
   "source": [
    "display_table(apple_free, 11)"
   ]
  },
  {
   "cell_type": "markdown",
   "metadata": {},
   "source": [
    "As we can see in the frequency table of the App Store data, the 'Games' genre dominates the free apps market with a 58% share. The next closet is 'Entertainment' with almost 8% share. Looking further down we notice that of the top ten genres by percentage, over 80% of apps are for entertainment purposes such as music, games, and sports. Making an app in an entertainment genre might be a good start to our app.\n",
    "\n",
    "'Games' has over 58% of the market for free aps but that doesn't necessarily mean that it is the best genre for us to make an app. 'Social Networking' only has just over 3% but we know that Facebook, Instagram, and other free social media apps have billions of users. "
   ]
  },
  {
   "cell_type": "markdown",
   "metadata": {},
   "source": [
    "The Google Play data does not have a stand out genre like 'Games' in the App Store. In both the 'Category' and 'Genres', the top apps are a mix of entertainment and productivity apps. Unfortunately, when considering both the App Store and Google Play, analyzing the most popular genres is insufficient by itself to make a recommendation. We will need to go deeper and find out which genre has the most users per app."
   ]
  },
  {
   "cell_type": "markdown",
   "metadata": {},
   "source": [
    "To analyze genres by number of users, we will have to use two different metrics for the App Store and Google Play. In Google Play, we can use the 'Installs' column to determine how many people have installed the app. Unfortunately, the App Store data does not have such a column, so we will have to look at the number of ratings with the 'rating_count_tot' column.\n",
    "\n",
    "For 'ratings_count_tot', we can isolate the apps in each genre, sum up their ratings numbers, then divide the sum by the number of apps in the genre."
   ]
  },
  {
   "cell_type": "markdown",
   "metadata": {},
   "source": [
    "### The App Store Genre Frequency"
   ]
  },
  {
   "cell_type": "code",
   "execution_count": 41,
   "metadata": {},
   "outputs": [
    {
     "name": "stdout",
     "output_type": "stream",
     "text": [
      "Photo & Video : 28441.54375\n",
      "Games : 22812.92467948718\n",
      "Music : 57326.530303030304\n",
      "Social Networking : 43899.514285714286\n",
      "Reference : 74942.11111111111\n",
      "Health & Fitness : 23298.015384615384\n",
      "Weather : 52279.892857142855\n",
      "Utilities : 18684.456790123455\n",
      "Travel : 28243.8\n",
      "Shopping : 26919.690476190477\n",
      "News : 21248.023255813954\n",
      "Navigation : 86090.33333333333\n",
      "Lifestyle : 16485.764705882353\n",
      "Entertainment : 14029.830708661417\n",
      "Food & Drink : 33333.92307692308\n",
      "Sports : 23008.898550724636\n",
      "Book : 39758.5\n",
      "Finance : 31467.944444444445\n",
      "Education : 7003.983050847458\n",
      "Productivity : 21028.410714285714\n",
      "Business : 7491.117647058823\n",
      "Catalogs : 4004.0\n",
      "Medical : 612.0\n"
     ]
    }
   ],
   "source": [
    "apple_genre = freq_table(apple_free, -5)\n",
    "\n",
    "for genre in apple_genre:\n",
    "    total = 0\n",
    "    len_genre = 0\n",
    "    for app in apple_free:\n",
    "        genre_app = app[-5]\n",
    "        if genre_app == genre:\n",
    "            num_ratings = float(app[5])\n",
    "            total += num_ratings\n",
    "            len_genre += 1\n",
    "    avg_num_ratings = total / len_genre\n",
    "    print (genre, ':', avg_num_ratings)\n",
    "\n",
    "\n"
   ]
  },
  {
   "cell_type": "markdown",
   "metadata": {},
   "source": [
    "Based off the results the top three most used app genres in descending order are Navigation, Reference, and Music. Let's take a closer clook at what kinds of apps we would be competing with if we were to make an app in one of these genres."
   ]
  },
  {
   "cell_type": "code",
   "execution_count": 42,
   "metadata": {},
   "outputs": [
    {
     "name": "stdout",
     "output_type": "stream",
     "text": [
      "Waze - GPS Navigation, Maps & Real-time Traffic : 345046\n",
      "Google Maps - Navigation & Transit : 154911\n",
      "Geocaching® : 12811\n",
      "CoPilot GPS – Car Navigation & Offline Maps : 3582\n",
      "ImmobilienScout24: Real Estate Search in Germany : 187\n",
      "Railway Route Search : 5\n"
     ]
    }
   ],
   "source": [
    "for app in apple_free:\n",
    "    if app[-5] == 'Navigation':\n",
    "        print(app[1], ':', app[5])"
   ]
  },
  {
   "cell_type": "markdown",
   "metadata": {},
   "source": [
    "Clearly the Navigation app market is anchored down by two apps comprising over half a million ratings together, Waze and Google Maps. Having two apps such as these makes it difficult for a new app to enter the market and as such, we would be better to look elsewhere."
   ]
  },
  {
   "cell_type": "code",
   "execution_count": 43,
   "metadata": {},
   "outputs": [
    {
     "name": "stdout",
     "output_type": "stream",
     "text": [
      "Bible : 985920\n",
      "Dictionary.com Dictionary & Thesaurus : 200047\n",
      "Dictionary.com Dictionary & Thesaurus for iPad : 54175\n",
      "Google Translate : 26786\n",
      "Muslim Pro: Ramadan 2017 Prayer Times, Azan, Quran : 18418\n",
      "New Furniture Mods - Pocket Wiki & Game Tools for Minecraft PC Edition : 17588\n",
      "Merriam-Webster Dictionary : 16849\n",
      "Night Sky : 12122\n",
      "City Maps for Minecraft PE - The Best Maps for Minecraft Pocket Edition (MCPE) : 8535\n",
      "LUCKY BLOCK MOD ™ for Minecraft PC Edition - The Best Pocket Wiki & Mods Installer Tools : 4693\n",
      "GUNS MODS for Minecraft PC Edition - Mods Tools : 1497\n",
      "Guides for Pokémon GO - Pokemon GO News and Cheats : 826\n",
      "WWDC : 762\n",
      "Horror Maps for Minecraft PE - Download The Scariest Maps for Minecraft Pocket Edition (MCPE) Free : 718\n",
      "VPN Express : 14\n",
      "Real Bike Traffic Rider Virtual Reality Glasses : 8\n",
      "教えて!goo : 0\n",
      "Jishokun-Japanese English Dictionary & Translator : 0\n"
     ]
    }
   ],
   "source": [
    "for app in apple_free:\n",
    "    if app[-5] == 'Reference':\n",
    "        print(app[1], ':', app[5])"
   ]
  },
  {
   "cell_type": "markdown",
   "metadata": {},
   "source": [
    "The 'Reference' genre seems much more open than 'Navigation'. Here there are no single apps that clearly control the market. Yes, the Bible app has nearly 1 million ratings however if we look at the other apps within the genre, it's hard to see that these apps would necessarily be in competition with each other. In other words, 'Bible' and 'City Maps for Minecraft' likely have no competition with each other."
   ]
  },
  {
   "cell_type": "code",
   "execution_count": 44,
   "metadata": {},
   "outputs": [
    {
     "name": "stdout",
     "output_type": "stream",
     "text": [
      "Pandora - Music & Radio : 1126879\n",
      "Spotify Music : 878563\n",
      "Shazam - Discover music, artists, videos & lyrics : 402925\n",
      "iHeartRadio – Free Music & Radio Stations : 293228\n",
      "SoundCloud - Music & Audio : 135744\n",
      "Magic Piano by Smule : 131695\n",
      "Smule Sing! : 119316\n",
      "TuneIn Radio - MLB NBA Audiobooks Podcasts Music : 110420\n",
      "Amazon Music : 106235\n",
      "SoundHound Song Search & Music Player : 82602\n",
      "Sonos Controller : 48905\n",
      "Bandsintown Concerts : 30845\n",
      "Karaoke - Sing Karaoke, Unlimited Songs! : 28606\n",
      "My Mixtapez Music : 26286\n",
      "Sing Karaoke Songs Unlimited with StarMaker : 26227\n",
      "Ringtones for iPhone & Ringtone Maker : 25403\n",
      "Musi - Unlimited Music For YouTube : 25193\n",
      "AutoRap by Smule : 18202\n",
      "Spinrilla - Mixtapes For Free : 15053\n",
      "Napster - Top Music & Radio : 14268\n",
      "edjing Mix:DJ turntable to remix and scratch music : 13580\n",
      "Free Music - MP3 Streamer & Playlist Manager Pro : 13443\n",
      "Free Piano app by Yokee : 13016\n",
      "Google Play Music : 10118\n",
      "Certified Mixtapes - Hip Hop Albums & Mixtapes : 9975\n",
      "TIDAL : 7398\n",
      "YouTube Music : 7109\n",
      "Nicki Minaj: The Empire : 5196\n",
      "Sounds app - Music And Friends : 5126\n",
      "SongFlip - Free Music Streamer : 5004\n",
      "Simple Radio - Live AM & FM Radio Stations : 4787\n",
      "Deezer - Listen to your Favorite Music & Playlists : 4677\n",
      "Ringtones for iPhone with Ringtone Maker : 4013\n",
      "Bose SoundTouch : 3687\n",
      "Amazon Alexa : 3018\n",
      "DatPiff : 2815\n",
      "Trebel Music - Unlimited Music Downloader : 2570\n",
      "Free Music Play - Mp3 Streamer & Player : 2496\n",
      "Acapella from PicPlayPost : 2487\n",
      "Coach Guitar - Lessons & Easy Tabs For Beginners : 2416\n",
      "Musicloud - MP3 and FLAC Music Player for Cloud Platforms. : 2211\n",
      "Piano - Play Keyboard Music Games with Magic Tiles : 1636\n",
      "Boom: Best Equalizer & Magical Surround Sound : 1375\n",
      "Music Freedom - Unlimited Free MP3 Music Streaming : 1246\n",
      "AmpMe - A Portable Social Party Music Speaker : 1047\n",
      "Medly - Music Maker : 933\n",
      "Bose Connect : 915\n",
      "Music Memos : 909\n",
      "UE BOOM : 612\n",
      "LiveMixtapes : 555\n",
      "NOISE : 355\n",
      "MP3 Music Player & Streamer for Clouds : 329\n",
      "Musical Video Maker - Create Music clips lip sync : 320\n",
      "Cloud Music Player - Downloader & Playlist Manager : 319\n",
      "Remixlive - Remix loops with pads : 288\n",
      "QQ音乐HD : 224\n",
      "Blocs Wave - Make & Record Music : 158\n",
      "PlayGround • Music At Your Fingertips : 150\n",
      "Music and Chill : 135\n",
      "The Singing Machine Mobile Karaoke App : 130\n",
      "radio.de - Der Radioplayer : 64\n",
      "Free Music -  Player & Streamer  for Dropbox, OneDrive & Google Drive : 46\n",
      "NRJ Radio : 38\n",
      "Smart Music: Streaming Videos and Radio : 17\n",
      "BOSS Tuner : 13\n",
      "PetitLyrics : 0\n"
     ]
    }
   ],
   "source": [
    "for app in apple_free:\n",
    "    if app[-5] == 'Music':\n",
    "        print(app[1], ':', app[5])"
   ]
  },
  {
   "cell_type": "markdown",
   "metadata": {},
   "source": [
    "Much like 'Reference', the 'Music' genre has a few apps at the top with around a million ratings and then a wide open field of apps covering various aspets of music. Looking at some of the names we can determine that there are a handful of music streaming services outside the top three including 'Tidal', 'Amazon Music' and 'iHeartRadio'. We also see some device specific apps like 'Bose Connect' which connects mobile devices to Bose speaker devices. Additionally, there are a few apps for learning instruments such as piano and guitar basics.\n",
    "\n",
    "Ok, so let's do the same for the Google Play store."
   ]
  },
  {
   "cell_type": "markdown",
   "metadata": {},
   "source": [
    "### Google Play Genre Frequency"
   ]
  },
  {
   "cell_type": "markdown",
   "metadata": {},
   "source": [
    "Google and Apple store app data differently so where as the App Store has a unique count for the 'ratings_count_tot' column, the Google Play store has data stored for number of downloads. However, this data is a little vague."
   ]
  },
  {
   "cell_type": "code",
   "execution_count": 45,
   "metadata": {},
   "outputs": [
    {
     "name": "stdout",
     "output_type": "stream",
     "text": [
      "1,000,000+ : 15.730083502595352\n",
      "100,000+ : 11.554953735048521\n",
      "10,000,000+ : 10.550665763935905\n",
      "10,000+ : 10.189573459715639\n",
      "1,000+ : 8.395396073121193\n",
      "100+ : 6.917174452719477\n",
      "5,000,000+ : 6.82690137666441\n",
      "500,000+ : 5.563078311893477\n",
      "50,000+ : 4.773188896411646\n",
      "5,000+ : 4.513653802753328\n",
      "10+ : 3.5432182351613632\n",
      "500+ : 3.2498307379823967\n",
      "50,000,000+ : 2.3019634394041977\n",
      "100,000,000+ : 2.132701421800948\n",
      "50+ : 1.9183028661701647\n",
      "5+ : 0.7898894154818324\n",
      "1+ : 0.5077860528097494\n",
      "500,000,000+ : 0.2708192281651997\n",
      "1,000,000,000+ : 0.22568269013766643\n",
      "0+ : 0.045136538027533285\n"
     ]
    }
   ],
   "source": [
    "display_table(android_free, 5)"
   ]
  },
  {
   "cell_type": "markdown",
   "metadata": {},
   "source": [
    "Here the Google Play store documents app installs in brackets but these brackets are very defined. Fortunately, this shouldn't be too much of an issue for the purposes of our initial analysis on free apps. Before we can look at the numbers, we will need to remove the strings, or the '+' and ',' from our list."
   ]
  },
  {
   "cell_type": "code",
   "execution_count": 57,
   "metadata": {},
   "outputs": [
    {
     "name": "stdout",
     "output_type": "stream",
     "text": [
      "ART_AND_DESIGN  :  2021626.7857142857\n",
      "AUTO_AND_VEHICLES  :  647317.8170731707\n",
      "BEAUTY  :  513151.88679245283\n",
      "BOOKS_AND_REFERENCE  :  8767811.894736841\n",
      "BUSINESS  :  1712290.1474201474\n",
      "COMICS  :  817657.2727272727\n",
      "COMMUNICATION  :  38456119.167247385\n",
      "DATING  :  854028.8303030303\n",
      "EDUCATION  :  1833495.145631068\n",
      "ENTERTAINMENT  :  11640705.88235294\n",
      "EVENTS  :  253542.22222222222\n",
      "FINANCE  :  1387692.475609756\n",
      "FOOD_AND_DRINK  :  1924897.7363636363\n",
      "HEALTH_AND_FITNESS  :  4188821.9853479853\n",
      "HOUSE_AND_HOME  :  1331540.5616438356\n",
      "LIBRARIES_AND_DEMO  :  638503.734939759\n",
      "LIFESTYLE  :  1437816.2687861272\n",
      "GAME  :  15588015.603248259\n",
      "FAMILY  :  3697848.1731343283\n",
      "MEDICAL  :  120550.61980830671\n",
      "SOCIAL  :  23253652.127118643\n",
      "SHOPPING  :  7036877.311557789\n",
      "PHOTOGRAPHY  :  17840110.40229885\n",
      "SPORTS  :  3638640.1428571427\n",
      "TRAVEL_AND_LOCAL  :  13984077.710144928\n",
      "TOOLS  :  10801391.298666667\n",
      "PERSONALIZATION  :  5201482.6122448975\n",
      "PRODUCTIVITY  :  16787331.344927534\n",
      "PARENTING  :  542603.6206896552\n",
      "WEATHER  :  5074486.197183099\n",
      "VIDEO_PLAYERS  :  24727872.452830188\n",
      "NEWS_AND_MAGAZINES  :  9549178.467741935\n",
      "MAPS_AND_NAVIGATION  :  4056941.7741935486\n"
     ]
    }
   ],
   "source": [
    "android_category = freq_table(android_free, 1)\n",
    "\n",
    "for category in android_category:\n",
    "    total = 0\n",
    "    len_category = 0\n",
    "    for app in android_free:\n",
    "        category_app = app[1]\n",
    "        if category_app == category:\n",
    "            n_installs = app[5]\n",
    "            n_installs = n_installs.replace('+','')\n",
    "            n_installs = n_installs.replace(',','')\n",
    "            total += float(n_installs)\n",
    "            len_category += 1\n",
    "    android_avg_installs = total / len_category\n",
    "    print(category, ' : ', android_avg_installs)"
   ]
  },
  {
   "cell_type": "markdown",
   "metadata": {},
   "source": [
    "So what we can do with this data is take our analysis of the App Store data and try to determine how these two data sets overlap. To do that, I will open up some of these categories to figure out what types of apps are in them, as the category names are a bit different from the App Store.\n",
    "\n",
    "Since the Reference genre in the App Store seemed promising, I will look in the 'BOOKS_AND_REFERENCE' category first."
   ]
  },
  {
   "cell_type": "code",
   "execution_count": 58,
   "metadata": {},
   "outputs": [
    {
     "name": "stdout",
     "output_type": "stream",
     "text": [
      "E-Book Read - Read Book for free : 50,000+\n",
      "Download free book with green book : 100,000+\n",
      "Wikipedia : 10,000,000+\n",
      "Cool Reader : 10,000,000+\n",
      "Free Panda Radio Music : 100,000+\n",
      "Book store : 1,000,000+\n",
      "FBReader: Favorite Book Reader : 10,000,000+\n",
      "English Grammar Complete Handbook : 500,000+\n",
      "Free Books - Spirit Fanfiction and Stories : 1,000,000+\n",
      "Google Play Books : 1,000,000,000+\n",
      "AlReader -any text book reader : 5,000,000+\n",
      "Offline English Dictionary : 100,000+\n",
      "Offline: English to Tagalog Dictionary : 500,000+\n",
      "FamilySearch Tree : 1,000,000+\n",
      "Cloud of Books : 1,000,000+\n",
      "Recipes of Prophetic Medicine for free : 500,000+\n",
      "ReadEra – free ebook reader : 1,000,000+\n",
      "Anonymous caller detection : 10,000+\n",
      "Ebook Reader : 5,000,000+\n",
      "Litnet - E-books : 100,000+\n",
      "Read books online : 5,000,000+\n",
      "English to Urdu Dictionary : 500,000+\n",
      "eBoox: book reader fb2 epub zip : 1,000,000+\n",
      "English Persian Dictionary : 500,000+\n",
      "Flybook : 500,000+\n",
      "All Maths Formulas : 1,000,000+\n",
      "Ancestry : 5,000,000+\n",
      "HTC Help : 10,000,000+\n",
      "English translation from Bengali : 100,000+\n",
      "Pdf Book Download - Read Pdf Book : 100,000+\n",
      "Free Book Reader : 100,000+\n",
      "eBoox new: Reader for fb2 epub zip books : 50,000+\n",
      "Only 30 days in English, the guideline is guaranteed : 500,000+\n",
      "Moon+ Reader : 10,000,000+\n",
      "SH-02J Owner's Manual (Android 8.0) : 50,000+\n",
      "English-Myanmar Dictionary : 1,000,000+\n",
      "Golden Dictionary (EN-AR) : 1,000,000+\n",
      "All Language Translator Free : 1,000,000+\n",
      "Azpen eReader : 500,000+\n",
      "URBANO V 02 instruction manual : 100,000+\n",
      "Bible : 100,000,000+\n",
      "C Programs and Reference : 50,000+\n",
      "C Offline Tutorial : 1,000+\n",
      "C Programs Handbook : 50,000+\n",
      "Amazon Kindle : 100,000,000+\n",
      "Aab e Hayat Full Novel : 100,000+\n",
      "Aldiko Book Reader : 10,000,000+\n",
      "Google I/O 2018 : 500,000+\n",
      "R Language Reference Guide : 10,000+\n",
      "Learn R Programming Full : 5,000+\n",
      "R Programing Offline Tutorial : 1,000+\n",
      "Guide for R Programming : 5+\n",
      "Learn R Programming : 10+\n",
      "R Quick Reference Big Data : 1,000+\n",
      "V Made : 100,000+\n",
      "Wattpad 📖 Free Books : 100,000,000+\n",
      "Dictionary - WordWeb : 5,000,000+\n",
      "Guide (for X-MEN) : 100,000+\n",
      "AC Air condition Troubleshoot,Repair,Maintenance : 5,000+\n",
      "AE Bulletins : 1,000+\n",
      "Ae Allah na Dai (Rasa) : 10,000+\n",
      "50000 Free eBooks & Free AudioBooks : 5,000,000+\n",
      "Ag PhD Field Guide : 10,000+\n",
      "Ag PhD Deficiencies : 10,000+\n",
      "Ag PhD Planting Population Calculator : 1,000+\n",
      "Ag PhD Soybean Diseases : 1,000+\n",
      "Fertilizer Removal By Crop : 50,000+\n",
      "A-J Media Vault : 50+\n",
      "Al-Quran (Free) : 10,000,000+\n",
      "Al Quran (Tafsir & by Word) : 500,000+\n",
      "Al Quran Indonesia : 10,000,000+\n",
      "Al'Quran Bahasa Indonesia : 10,000,000+\n",
      "Al Quran Al karim : 1,000,000+\n",
      "Al-Muhaffiz : 50,000+\n",
      "Al Quran : EAlim - Translations & MP3 Offline : 5,000,000+\n",
      "Al-Quran 30 Juz free copies : 500,000+\n",
      "Koran Read &MP3 30 Juz Offline : 1,000,000+\n",
      "Hafizi Quran 15 lines per page : 1,000,000+\n",
      "Quran for Android : 10,000,000+\n",
      "Surah Al-Waqiah : 100,000+\n",
      "Hisnul Al Muslim - Hisn Invocations & Adhkaar : 100,000+\n",
      "Satellite AR : 1,000,000+\n",
      "Audiobooks from Audible : 100,000,000+\n",
      "Kinot & Eichah for Tisha B'Av : 10,000+\n",
      "AW Tozer Devotionals - Daily : 5,000+\n",
      "Tozer Devotional -Series 1 : 1,000+\n",
      "The Pursuit of God : 1,000+\n",
      "AY Sing : 5,000+\n",
      "Ay Hasnain k Nana Milad Naat : 10,000+\n",
      "Ay Mohabbat Teri Khatir Novel : 10,000+\n",
      "Arizona Statutes, ARS (AZ Law) : 1,000+\n",
      "Oxford A-Z of English Usage : 1,000,000+\n",
      "BD Fishpedia : 1,000+\n",
      "BD All Sim Offer : 10,000+\n",
      "Youboox - Livres, BD et magazines : 500,000+\n",
      "B&H Kids AR : 10,000+\n",
      "B y H Niños ES : 5,000+\n",
      "Dictionary.com: Find Definitions for English Words : 10,000,000+\n",
      "English Dictionary - Offline : 10,000,000+\n",
      "Bible KJV : 5,000,000+\n",
      "Borneo Bible, BM Bible : 10,000+\n",
      "MOD Black for BM : 100+\n",
      "BM Box : 1,000+\n",
      "Anime Mod for BM : 100+\n",
      "NOOK: Read eBooks & Magazines : 10,000,000+\n",
      "NOOK Audiobooks : 500,000+\n",
      "NOOK App for NOOK Devices : 500,000+\n",
      "Browsery by Barnes & Noble : 5,000+\n",
      "bp e-store : 1,000+\n",
      "Brilliant Quotes: Life, Love, Family & Motivation : 1,000,000+\n",
      "BR Ambedkar Biography & Quotes : 10,000+\n",
      "BU Alsace : 100+\n",
      "Catholic La Bu Zo Kam : 500+\n",
      "Khrifa Hla Bu (Solfa) : 10+\n",
      "Kristian Hla Bu : 10,000+\n",
      "SA HLA BU : 1,000+\n",
      "Learn SAP BW : 500+\n",
      "Learn SAP BW on HANA : 500+\n",
      "CA Laws 2018 (California Laws and Codes) : 5,000+\n",
      "Bootable Methods(USB-CD-DVD) : 10,000+\n",
      "cloudLibrary : 100,000+\n",
      "SDA Collegiate Quarterly : 500+\n",
      "Sabbath School : 100,000+\n",
      "Cypress College Library : 100+\n",
      "Stats Royale for Clash Royale : 1,000,000+\n",
      "GATE 21 years CS Papers(2011-2018 Solved) : 50+\n",
      "Learn CT Scan Of Head : 5,000+\n",
      "Easy Cv maker 2018 : 10,000+\n",
      "How to Write CV : 100,000+\n",
      "CW Nuclear : 1,000+\n",
      "CY Spray nozzle : 10+\n",
      "BibleRead En Cy Zh Yue : 5+\n",
      "CZ-Help : 5+\n",
      "Modlitební knížka CZ : 500+\n",
      "Guide for DB Xenoverse : 10,000+\n",
      "Guide for DB Xenoverse 2 : 10,000+\n",
      "Guide for IMS DB : 10+\n",
      "DC HSEMA : 5,000+\n",
      "DC Public Library : 1,000+\n",
      "Painting Lulu DC Super Friends : 1,000+\n",
      "Dictionary : 10,000,000+\n",
      "Fix Error Google Playstore : 1,000+\n",
      "D. H. Lawrence Poems FREE : 1,000+\n",
      "Bilingual Dictionary Audio App : 5,000+\n",
      "DM Screen : 10,000+\n",
      "wikiHow: how to do anything : 1,000,000+\n",
      "Dr. Doug's Tips : 1,000+\n",
      "Bible du Semeur-BDS (French) : 50,000+\n",
      "La citadelle du musulman : 50,000+\n",
      "DV 2019 Entry Guide : 10,000+\n",
      "DV 2019 - EDV Photo & Form : 50,000+\n",
      "DV 2018 Winners Guide : 1,000+\n",
      "EB Annual Meetings : 1,000+\n",
      "EC - AP & Telangana : 5,000+\n",
      "TN Patta Citta & EC : 10,000+\n",
      "AP Stamps and Registration : 10,000+\n",
      "CompactiMa EC pH Calibration : 100+\n",
      "EGW Writings 2 : 100,000+\n",
      "EGW Writings : 1,000,000+\n",
      "Bible with EGW Comments : 100,000+\n",
      "My Little Pony AR Guide : 1,000,000+\n",
      "SDA Sabbath School Quarterly : 500,000+\n",
      "Duaa Ek Ibaadat : 5,000+\n",
      "Spanish English Translator : 10,000,000+\n",
      "Dictionary - Merriam-Webster : 10,000,000+\n",
      "JW Library : 10,000,000+\n",
      "Oxford Dictionary of English : Free : 10,000,000+\n",
      "English Hindi Dictionary : 10,000,000+\n",
      "English to Hindi Dictionary : 5,000,000+\n",
      "EP Research Service : 1,000+\n",
      "Hymnes et Louanges : 100,000+\n",
      "EU Charter : 1,000+\n",
      "EU Data Protection : 1,000+\n",
      "EU IP Codes : 100+\n",
      "EW PDF : 5+\n",
      "BakaReader EX : 100,000+\n",
      "EZ Quran : 50,000+\n",
      "FA Part 1 & 2 Past Papers Solved Free – Offline : 5,000+\n",
      "La Fe de Jesus : 1,000+\n",
      "La Fe de Jesús : 500+\n",
      "Le Fe de Jesus : 500+\n",
      "Florida - Pocket Brainbook : 1,000+\n",
      "Florida Statutes (FL Code) : 1,000+\n",
      "English To Shona Dictionary : 10,000+\n",
      "Greek Bible FP (Audio) : 1,000+\n",
      "Golden Dictionary (FR-AR) : 500,000+\n",
      "Fanfic-FR : 5,000+\n",
      "Bulgarian French Dictionary Fr : 10,000+\n",
      "Chemin (fr) : 1,000+\n",
      "The SCP Foundation DB fr nn5n : 1,000+\n"
     ]
    }
   ],
   "source": [
    "for app in android_free:\n",
    "    if app[1] == 'BOOKS_AND_REFERENCE':\n",
    "        print(app[0], ':', app[5])"
   ]
  },
  {
   "cell_type": "markdown",
   "metadata": {},
   "source": [
    "This category is similar to the App STore version in that it seems like a pretty open field for apps. There appear to be quite a number of book based apps including reference apps to books as well as e-book readers and game guides. This category also includes a few dictionaries between and English and other languages but we can discount these as our app will only be in English. \n",
    "\n",
    "This data is good, but let's take a look at some of the others before making a final recommendation"
   ]
  },
  {
   "cell_type": "code",
   "execution_count": 60,
   "metadata": {},
   "outputs": [
    {
     "name": "stdout",
     "output_type": "stream",
     "text": [
      "English Communication - Learn English for Chinese (Learn English for Chinese) : 100,000+\n",
      "Khan Academy : 5,000,000+\n",
      "Ai La Trieu Phu - ALTP Free : 100,000+\n",
      "Learn Spanish - Español : 1,000,000+\n",
      "Speed Reading : 500,000+\n",
      "English for beginners : 1,000,000+\n",
      "Mermaids : 5,000,000+\n",
      "Learn Japanese, Korean, Chinese Offline & Free : 1,000,000+\n",
      "Kids Mode : 500,000+\n",
      "Dinosaurs Coloring Pages : 500,000+\n",
      "Cars Coloring Pages : 1,000,000+\n",
      "Math Tricks : 10,000,000+\n",
      "Learn English Words Free : 5,000,000+\n",
      "Japanese / English one-shop search dictionary - Free Japanese - English - Japanese dictionary application : 50,000+\n",
      "English speaking texts : 1,000,000+\n",
      "Thai Handwriting : 1,000,000+\n",
      "THAI DICT 2018 : 1,000,000+\n",
      "Kanji test · Han search Kanji training (free version) : 1,000,000+\n",
      "Flippy Campus - Buy & sell on campus at a discount : 500,000+\n",
      "Free intellectual training game application | : 1,000,000+\n",
      "ABC Preschool Free : 5,000,000+\n",
      "PINKFONG Baby Shark : 1,000,000+\n",
      "English words application mikan : 500,000+\n",
      "Learn English for beginners : 500,000+\n",
      "Listen and learn English in seven days : 100,000+\n",
      "Lumosity: #1 Brain Games & Cognitive Training App : 10,000,000+\n",
      "Learn English from Persian: Persian to English : 100,000+\n",
      "English with Lingualeo : 5,000,000+\n",
      "Quizlet: Learn Languages & Vocab with Flashcards : 10,000,000+\n",
      "Udemy - Online Courses : 1,000,000+\n",
      "Coursera: Online courses : 5,000,000+\n",
      "edX - Online Courses by Harvard, MIT & more : 1,000,000+\n",
      "Elevate - Brain Training Games : 5,000,000+\n",
      "NeuroNation - Focus and Brain Training : 5,000,000+\n",
      "Memorado - Brain Games : 1,000,000+\n",
      "Lynda - Online Training Videos : 1,000,000+\n",
      "Brilliant : 1,000,000+\n",
      "CppDroid - C/C++ IDE : 1,000,000+\n",
      "Quiz&Learn Python : 10,000+\n",
      "C++ Tutorials : 50,000+\n",
      "C++ Programming : 1,000,000+\n",
      "C Programming : 1,000,000+\n",
      "Udacity - Lifelong Learning : 1,000,000+\n",
      "Learn C++ : 1,000,000+\n",
      "Learn programming : 1,000,000+\n",
      "Learn JavaScript : 1,000,000+\n",
      "Learn Java : 1,000,000+\n",
      "Learn HTML : 1,000,000+\n",
      "Programming Hub, Learn to code : 1,000,000+\n",
      "Learn SQL : 1,000,000+\n",
      "Ready4 SAT (Prep4 SAT) : 100,000+\n",
      "Socratic - Math Answers & Homework Help : 1,000,000+\n",
      "Ready4 GMAT (Prep4 GMAT) : 100,000+\n",
      "Pocket GMAT Math : 10,000+\n",
      "GMAT Question Bank : 10,000+\n",
      "GRE Tutor : 50,000+\n",
      "GRE Flashcards : 500,000+\n",
      "play2prep: ACT, SAT prep : 100,000+\n",
      "SAT Test : 100,000+\n",
      "GMAT Math Flashcards : 100,000+\n",
      "Pocket SAT Math : 10,000+\n",
      "TOEFL Prep & Practice from Magoosh : 100,000+\n",
      "GRE Prep & Practice by Magoosh : 100,000+\n",
      "GRE® Flashcards by Kaplan : 50,000+\n",
      "SAT Vocabulary : 50,000+\n",
      "Magoosh GMAT Prep & Practice : 100,000+\n",
      "SAT Flashcards: Prep & Vocabulary : 100,000+\n",
      "LinkedIn Learning: Online Courses to Learn Skills : 1,000,000+\n",
      "Learn English with Phrases : 1,000,000+\n",
      "Free english course : 5,000,000+\n",
      "Learn 50 languages : 5,000,000+\n",
      "Rosetta Stone: Learn to Speak & Read New Languages : 5,000,000+\n",
      "Babbel – Learn Spanish : 1,000,000+\n",
      "Mango Languages: Lovable Language Courses : 500,000+\n",
      "Learn English with Aco : 1,000,000+\n",
      "Learn to Speak English : 1,000,000+\n",
      "Learn English with Wlingua : 10,000,000+\n",
      "My Class Schedule: Timetable : 1,000,000+\n",
      "Study Checker : 500,000+\n",
      "My Study Life - School Planner : 1,000,000+\n",
      "HomeWork : 1,000,000+\n",
      "Next Gen Science Standards : 50,000+\n",
      "myHomework Student Planner : 1,000,000+\n",
      "Teacher's Gradebook - Additio : 100,000+\n",
      "Common Core : 100,000+\n",
      "Homework Planner : 100,000+\n",
      "TeachersPayTeachers : 100,000+\n",
      "Socrative Teacher : 100,000+\n",
      "Training schedule - AllUniver : 10,000+\n",
      "Remind: School Communication : 10,000,000+\n",
      "Google Classroom : 10,000,000+\n",
      "ClassDojo : 10,000,000+\n",
      "Lerni. Learn languages. : 500,000+\n",
      "Learn languages, grammar & vocabulary with Memrise : 10,000,000+\n",
      "Innovative: Learn 34 Languages : 500,000+\n",
      "Chegg Study - Homework Help : 1,000,000+\n",
      "Canvas Student : 1,000,000+\n",
      "Timetable : 1,000,000+\n",
      "EasyBib: Citation Generator : 100,000+\n",
      "HelloTalk — Chat, Speak & Learn Foreign Languages : 5,000,000+\n",
      "SoloLearn: Learn to Code for Free : 1,000,000+\n",
      "Kids Learn Languages by Mondly : 100,000+\n",
      "Blinkist - Nonfiction Books : 1,000,000+\n"
     ]
    }
   ],
   "source": [
    "for app in android_free:\n",
    "    if app[1] == 'EDUCATION':\n",
    "        print(app[0], ':', app[5])"
   ]
  },
  {
   "cell_type": "markdown",
   "metadata": {},
   "source": [
    "'EDUCATION' is an interesting category because there are so many apps with over 1 million installs. This could be promising since we will rely on user count for revenue. More interestingly is that there is a high number of apps related to learning English, all likely with some competitive overlap, yet many of these apps have over 1 million installs. This has me thinking that we should look at the App Store data in the 'Education' genre."
   ]
  },
  {
   "cell_type": "code",
   "execution_count": 61,
   "metadata": {},
   "outputs": [
    {
     "name": "stdout",
     "output_type": "stream",
     "text": [
      "Duolingo - Learn Spanish, French and more : 162701\n",
      "Guess My Age  Math Magic : 123190\n",
      "Lumosity - Brain Training : 96534\n",
      "Elevate - Brain Training and Games : 58092\n",
      "Fit Brains Trainer : 46363\n",
      "ClassDojo : 35440\n",
      "Memrise: learn languages : 20383\n",
      "Peak - Brain Training : 20322\n",
      "Canvas by Instructure : 19981\n",
      "ABCmouse.com - Early Learning Academy : 18749\n",
      "Quizlet: Study Flashcards, Languages & Vocabulary : 16683\n",
      "Photomath - Camera Calculator : 16523\n",
      "iTunes U : 15801\n",
      "Blackboard Mobile Learn™ : 13567\n",
      "Star Chart : 13482\n",
      "Remind: Fast, Efficient School Messaging : 9796\n",
      "PBS KIDS Video : 8651\n",
      "Toca Kitchen Monsters : 8062\n",
      "Toca Hair Salon - Christmas Gift : 8049\n",
      "Edmodo : 7197\n",
      "Prodigy Math Game : 6683\n",
      "Epic! - Unlimited Books for Kids : 6676\n",
      "ChineseSkill -Learn Mandarin Chinese Language Free : 6077\n",
      "Google Classroom : 5942\n",
      "TED : 5782\n",
      "Khan Academy: you can learn anything : 5459\n",
      "Got It - Homework Help Math, Chem, Physics Solver : 4903\n",
      "PowerSchool Mobile : 4547\n",
      "SkyView® Free - Explore the Universe : 4188\n",
      "Hopscotch : 4057\n",
      "IXL - Math and English : 3546\n",
      "Simply Piano by JoyTunes - Learn & play piano : 2925\n",
      "Kids A-Z : 2887\n",
      "Infinite Campus Mobile Portal : 2286\n",
      "PlayKids - Educational Cartoons and Games for Kids : 2196\n",
      "Memorado Brain Training for Memory & Mindfulness : 2067\n",
      "Bookshelf : 2064\n",
      "Mathway - Math Problem Solver : 1854\n",
      "Schoology : 1777\n",
      "HelloTalk Language Exchange Learning App : 1619\n",
      "SpellingCity : 1566\n",
      "Nick Jr. : 1541\n",
      "Babbel – Learn Languages Spanish, French & more : 1533\n",
      "Yup - Homework Help with Math & Science Tutors : 1424\n",
      "Mondly: Learn 33 Languages: Spanish English French : 1395\n",
      "WWF Together : 1385\n",
      "Tinycards - Learn with Fun, Free Flashcards : 1131\n",
      "Nearpod : 1057\n",
      "Starfall FREE : 1019\n",
      "Reflex Student : 1010\n",
      "GoldieBlox and the Movie Machine : 1000\n",
      "Pearson eText : 981\n",
      "codeSpark Academy with The Foos - coding for kids : 977\n",
      "Dr. Panda Restaurant Asia : 853\n",
      "NOGGIN - Preschool Shows & Educational Kids Videos : 782\n",
      "Tynker - Learn to Code. Programming Made Easy. : 771\n",
      "BrainHQ - Brain Training : 684\n",
      "Top Hat Lecture : 668\n",
      "Pearson eText for Schools : 609\n",
      "Curious World: Games, Videos, Books for Children : 604\n",
      "McGraw-Hill K-12 ConnectED Mobile : 594\n",
      "Socrative Student : 581\n",
      "Swift Playgrounds : 578\n",
      "MarcoPolo Ocean : 529\n",
      "TestNav : 491\n",
      "Starfall Learn to Read : 474\n",
      "Speakaboos Reading App: Stories & Songs for Kids : 440\n",
      "Bloxels: Build, Play & Share Your Own Video Games : 382\n",
      "GoNoodle Kids : 372\n",
      "Global Shark Tracker : 336\n",
      "The Robot Factory by Tinybop : 335\n",
      "Daniel Tiger’s Day & Night : 314\n",
      "Kahoot! Play Fun Learning Games : 300\n",
      "Spanish SOLO: Learn Spanish With Lessons On The Go : 275\n",
      "Math 42 : 248\n",
      "Star Walk 2 Ads+ Night Sky Map - Stars and Planets : 161\n",
      "Toca Dance Free : 149\n",
      "Endless Learning Academy : 143\n",
      "270toWin : 141\n",
      "Win the White House : 123\n",
      "Sago Mini Babies Dress Up : 115\n",
      "Nancy Drew Codes and Clues Mystery Coding Game : 110\n",
      "1600 : 110\n",
      "BEAKER by THIX : 94\n",
      "Highlights™ Shapes - Preschool Learning Puzzles : 90\n",
      "Little Panda's Candy Shop - Lollipop Factory : 84\n",
      "Mathpix - Solve and graph math using pictures : 83\n",
      "Blue Apprentice Elementary Science Game by Galxyz : 79\n",
      "PINKFONG Birthday Party : 70\n",
      "Hopster: Kids TV, Nursery Rhymes, Music, Fun Games : 58\n",
      "Sago Mini Holiday Trucks and Diggers : 56\n",
      "Dr. Panda Toy Cars Free : 51\n",
      "Virry Educational. Play, learn with real animals : 50\n",
      "Highlights Monster Day : 49\n",
      "PlayKids Learn - Learning through play : 49\n",
      "PBS KIDS ScratchJr : 38\n",
      "Lemon Lumberjack's Letter Mill : 34\n",
      "Ready Jet Go! Space Explorer : 34\n",
      "Chinese Recipes - Asian cuisine : 32\n",
      "Nature Cat's Great Outdoors : 31\n",
      "Show My Homework : 17\n",
      "PINKFONG 123 Numbers : 17\n",
      "Aquarium VR : 12\n",
      "Little Panda Mini Games-3D : 9\n",
      "Stylish School Timetable : 7\n",
      "Merry Christmas -Activities : 7\n",
      "Mastering the piano with Lang Lang : 6\n",
      "Baby Panda's Carnival : 6\n",
      "Driving test 2017 : 5\n",
      "Cutie Patootie - Xmas Surprise : 5\n",
      "Free IQ Test: Calculate your IQ : 5\n",
      "Beautiful Japanese Handwriting for iPhone : 0\n",
      "GhostCallDX : 0\n",
      "Baby Learns Transportation : 0\n",
      "Baby Panda's Bath Time : 0\n",
      "Beautiful Japanese Handwriting : 0\n",
      "Spring Festival by BabyBus : 0\n",
      "Dinosaur Planet : 0\n"
     ]
    }
   ],
   "source": [
    "for app in apple_free:\n",
    "    if app[-5] == 'Education':\n",
    "        print(app[1], ':', app[5])"
   ]
  },
  {
   "cell_type": "markdown",
   "metadata": {},
   "source": [
    "Initially when I looked through the App Store data, I looked through the categories that had higher average ratings. AFter seeing the Google Play 'EDUCATION' category, it seemed like this might be a good genre for us to explore and despite having a lower average review count, the App Store data I feel supports this as well. If we comb through the App Store 'Education' genre we can see at the bottom that there are a handful of apps with less than 1000 reviews, but nearly all of them are aimed at babies and small children. At the top we have apps geared more for adult learners, and they have some outstanding review counts. \n",
    "\n",
    "Take into consideration how long a baby or small child will use an app. Eventually they will grow out of it and the app will no longer be used. Some of these apps, specifically those aimed for babies, have a very short shelf life on a users phone. When the child grows up, the app will be deleted. \n",
    "\n",
    "Yet, when we look at the adult learning apps, we have to consider what users are doing with these apps. It is likely that they will use it for quite some time. Duolingo, for instance, is a popular language learning app that encourages users to maintain daily streaks for app use. Some users have logged thousands of days using that app. This kind of app is being downloaded onto phones to be kept for a very long time. "
   ]
  },
  {
   "cell_type": "markdown",
   "metadata": {},
   "source": [
    "## Analytical Outcome\n",
    "\n",
    "After going over the data in these app stores, I think our company should be looking to make an application that falls somewhere in between Education and Books/Reference. These genres are very wide and seem to be supported by a high number of loyal users. Even with similar apps in the same category, many apps in education enjoy a high user base. \n",
    "\n",
    "We want an app that will be used by many and for an extended period of time. The more often our app is on screens, the more likely users will follow up on an advertisement.\n",
    "\n",
    "My application recommendation for our company:\n",
    "\n",
    "    1. I suggest that we build an app that has a goal of helping users \n",
    "    improve their English skills.\n",
    "    2. To achieve this goal, we can offer an e-reader type application  \n",
    "    where users can read stories at their English level\n",
    "        -The text will have clickable words with a definition\n",
    "        should the user not know the word.\n",
    "        -The app will have the ability to save a word into a flashcard bank\n",
    "        for further study\n",
    "    3. Stories can be categorized based on English exams that users are\n",
    "    studying for (e.g. contains words  and grammar found on the \n",
    "    IELTS, TOEFL, SAT, etc)"
   ]
  },
  {
   "cell_type": "markdown",
   "metadata": {},
   "source": [
    "# Conclusion\n",
    "\n",
    "In this project we analyzed data in Google Play and The App Store to make a recommendation to our company for an application design.\n",
    "\n",
    "The recommendation is an e-reader style application that is aimed at adult learners of English. The Book and Education genres are popular on both app stores and support a high number of users while also maintaing a level of parity that would allow success for new entrants into the genres. "
   ]
  },
  {
   "cell_type": "code",
   "execution_count": null,
   "metadata": {},
   "outputs": [],
   "source": []
  }
 ],
 "metadata": {
  "kernelspec": {
   "display_name": "Python 3",
   "language": "python",
   "name": "python3"
  },
  "language_info": {
   "codemirror_mode": {
    "name": "ipython",
    "version": 3
   },
   "file_extension": ".py",
   "mimetype": "text/x-python",
   "name": "python",
   "nbconvert_exporter": "python",
   "pygments_lexer": "ipython3",
   "version": "3.7.6"
  }
 },
 "nbformat": 4,
 "nbformat_minor": 4
}
